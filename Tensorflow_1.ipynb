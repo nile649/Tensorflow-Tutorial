{
 "cells": [
  {
   "cell_type": "code",
   "execution_count": 1,
   "metadata": {},
   "outputs": [],
   "source": [
    "import tensorflow as tf\n",
    "import numpy as np"
   ]
  },
  {
   "cell_type": "markdown",
   "metadata": {},
   "source": [
    "<b>InteractiveSession()</b> <i>needs to be started to get output of variables, or else it will stored in data. We need to specify <b>.eval()</b> to get output."
   ]
  },
  {
   "cell_type": "code",
   "execution_count": 3,
   "metadata": {},
   "outputs": [
    {
     "data": {
      "text/plain": [
       "<tensorflow.python.client.session.InteractiveSession at 0x7fa2afeabc50>"
      ]
     },
     "execution_count": 3,
     "metadata": {},
     "output_type": "execute_result"
    }
   ],
   "source": [
    "tf.InteractiveSession()"
   ]
  },
  {
   "cell_type": "code",
   "execution_count": 4,
   "metadata": {},
   "outputs": [],
   "source": [
    "a = tf.zeros((2,2))\n",
    "b = tf.ones((2,2),np.float64).eval()\n",
    "d = np.array([[2,3],[9,3]],np.float64)"
   ]
  },
  {
   "cell_type": "markdown",
   "metadata": {},
   "source": [
    "<h1>Tensorflow</h1> and <h1> Numpy have many similar function</h1>, so it is important to check which type of data we are dealing with, either it is tensorflow or numpy array. We can check this by using <b>.dtype</b>"
   ]
  },
  {
   "cell_type": "code",
   "execution_count": 21,
   "metadata": {},
   "outputs": [],
   "source": [
    "c = tf.reduce_sum(d,reduction_indices = 0).eval()"
   ]
  },
  {
   "cell_type": "code",
   "execution_count": 28,
   "metadata": {},
   "outputs": [
    {
     "data": {
      "text/plain": [
       "array([ 11.,   6.])"
      ]
     },
     "execution_count": 28,
     "metadata": {},
     "output_type": "execute_result"
    }
   ],
   "source": [
    "c"
   ]
  },
  {
   "cell_type": "code",
   "execution_count": 29,
   "metadata": {},
   "outputs": [
    {
     "data": {
      "text/plain": [
       "dtype('float64')"
      ]
     },
     "execution_count": 29,
     "metadata": {},
     "output_type": "execute_result"
    }
   ],
   "source": [
    "c.dtype"
   ]
  },
  {
   "cell_type": "code",
   "execution_count": 30,
   "metadata": {},
   "outputs": [
    {
     "data": {
      "text/plain": [
       "array([[ 1.,  1.],\n",
       "       [ 1.,  1.]])"
      ]
     },
     "execution_count": 30,
     "metadata": {},
     "output_type": "execute_result"
    }
   ],
   "source": [
    "tf.InteractiveSession()\n",
    "b = tf.ones((2,2),np.float64)\n",
    "b.eval()"
   ]
  },
  {
   "cell_type": "markdown",
   "metadata": {},
   "source": [
    "<div style=\";\">\n",
    "<div><h2>Tensorflow functions for matrix handling</h2></div>\n",
    "<div>\n",
    "<table>\n",
    "    <tr>\n",
    "        <td style=\"left:200px\"><font size=\"4\"><b style=\"color:red;\">.get_shape</b><i> it is equivalent to <b>.shape from numpy</b></i></font></td> </tr>\n",
    "          <tr>\n",
    "\n",
    "          <td style=\"left:200px\"><font size=\"4\"><b style=\"color:red;\">tf.constant(x)</b><i>is used for storing constant values</i></font></td>\n",
    "        </tr>\n",
    "          <tr>\n",
    "\n",
    "          <td style=\"left:200px\"><font size=\"4\"><b style=\"color:red;\">.zeros(())</b><i>it is equivalent to <b>.shape from numpy.zeros()</b></i></font></td>\n",
    "</tr>\n",
    "          <tr>\n",
    "\n",
    "          <td style=\"left:200px\"><font size=\"4\"><b style=\"color:red;\">.get_shape</b><i>it is equivalent to <b>.shape from numpy</b></i></font></td>\n",
    "\n",
    "    </tr>\n",
    "    <tr>\n",
    "\n",
    "          <td style=\"left:200px\"><font size=\"4\"><b style=\"color:red;\">tf.assign(x,y)</b><i>it is equivalent to <b>x<-y, asssigning y's value to x </b></i></font></td>\n",
    "\n",
    "    </tr>\n",
    "     <tr>\n",
    "\n",
    "          <td style=\"left:200px\"><font size=\"4\"><b style=\"color:red;\">a = tf.matmul(x,y)</b><i> equivalent to np.dot(x,y)</i></font></td>\n",
    "</tr>\n",
    "</table>\n",
    "<div style=\"padding-top:10px;\">\n",
    "</div>\n",
    "<font size=\"4\"><p><b><i>tf.session</i></b> has its own variable and run time, it basically creates an environment within Tensorflow<b><i>  sess.run(x)</i></b> to run that variable</p><b>when we do session.close() gpu releases the session, but variables still exists in memory buffer</b>\n",
    "</font>\n",
    "</div>\n",
    "</div>\n",
    "<div style=\"padding-top:10px;\">\n",
    "</div>\n",
    "<div><font size=\"4\"><b>var_1 = tf.Variable(0,name='var_1')</b>, where name is the title shown in graph during visualization, basically the parameteres will be assigned by <b>tf.variable()</b>, the other variables like x=3, are such statements would be <b>tensors</b>, and are used for input, <b><i>we will need to run sess.run(tf.global_variables_initializer()) to initialize all the parameters</i></b>, declared by tf.variable()</font></div>\n",
    "<div style=\"padding-top:10px;\">\n",
    "</div>\n",
    "<div><font size='4'>we can execute mutliple tensors in a session using sess.run([tensor_1,tensor_2])</font></div>\n",
    "<div style=\"padding-top:10px;\">\n",
    "</div>\n",
    "<div style=\"padding-top:15px;\">\n",
    "</div>\n",
    "<div><font size='4'><b>inp1 = tf.placeholder(tf.float32)</b> in simple holds values from memory buffer, which can be used as input to other function. we use <b>.feed_dict{x:,x2:...xn:}</b> to provide input.</font></div>\n",
    "\n",
    "Variables\n",
    "\n",
    "    For parameters to learn\n",
    "    Values can be derived from training\n",
    "    Initial values are required (often random)\n",
    "\n",
    "Placeholders\n",
    "\n",
    "    Allocated storage for data (such as for image pixel data during a feed)\n",
    "    Initial values are not required (but can be set, see tf.placeholder_with_default)\n"
   ]
  },
  {
   "cell_type": "markdown",
   "metadata": {},
   "source": [
    "### here c.eval() takes values from interactivesession()\n",
    "## TensorFlow computations define a  computation graph that has no numerical value until evaluated!\n",
    "\n",
    "##\n",
    "##\n",
    "\n",
    "<font size=\"4\">tf.variable_scope(\"  \",reuse=tf.AUTO_REUSE):\n",
    "    var1 = tf.get_variable(\"variable102\",[1])\n",
    "\n",
    "    var3 = tf.get_variable(\"variable102\",[1])\n",
    "    var4 = tf.get_variable(\"variable102\",[1])\n",
    "\n",
    "we use scope, let's say we have some network, and many layers use same weights(variable), then we could share this variable, this sharing of variable is done by <b> tf.variable_scope(\"  \",reuse=tf.AUTO_REUSE) </b>, once it is done we can share variable without geting exception.. So, from now on we use <b> tf.get_variable(\"name\", name,\n",
    "    shape=None,\n",
    "    dtype=None,\n",
    "    initializer=None,\n",
    "    regularizer=None,\n",
    "    trainable=True,\n",
    "    collections=None,\n",
    "    caching_device=None,\n",
    "    partitioner=None,\n",
    "    validate_shape=True,\n",
    "    use_resource=None,\n",
    "    custom_getter=None,\n",
    "    constraint=None\n",
    ") </b> and it has more features, and make variable sharing easy</font>\n",
    "\n",
    "\n",
    "# Pin a variable to GPU.\n",
    "with tf.device(\"/gpu:0\"):\n",
    "\n",
    "    v = tf.Variable(...)\n",
    "\n"
   ]
  },
  {
   "cell_type": "code",
   "execution_count": 31,
   "metadata": {},
   "outputs": [
    {
     "ename": "AttributeError",
     "evalue": "'numpy.ndarray' object has no attribute 'get_shape'",
     "output_type": "error",
     "traceback": [
      "\u001b[0;31m---------------------------------------------------------------------------\u001b[0m",
      "\u001b[0;31mAttributeError\u001b[0m                            Traceback (most recent call last)",
      "\u001b[0;32m<ipython-input-31-a4cac90350c1>\u001b[0m in \u001b[0;36m<module>\u001b[0;34m()\u001b[0m\n\u001b[0;32m----> 1\u001b[0;31m \u001b[0mc\u001b[0m\u001b[0;34m.\u001b[0m\u001b[0mget_shape\u001b[0m\u001b[0;34m(\u001b[0m\u001b[0;34m)\u001b[0m\u001b[0;34m\u001b[0m\u001b[0m\n\u001b[0m\u001b[1;32m      2\u001b[0m \u001b[0msess\u001b[0m\u001b[0;34m.\u001b[0m\u001b[0mrun\u001b[0m\u001b[0;34m(\u001b[0m\u001b[0;34m[\u001b[0m\u001b[0moutput\u001b[0m\u001b[0;34m]\u001b[0m\u001b[0;34m,\u001b[0m\u001b[0mfeed_dict\u001b[0m\u001b[0;34m=\u001b[0m\u001b[0;34m{\u001b[0m\u001b[0minp1\u001b[0m\u001b[0;34m:\u001b[0m\u001b[0;34m[\u001b[0m\u001b[0;34m[\u001b[0m\u001b[0;36m1.\u001b[0m\u001b[0;34m,\u001b[0m\u001b[0;36m3.\u001b[0m\u001b[0;34m]\u001b[0m\u001b[0;34m]\u001b[0m\u001b[0;34m,\u001b[0m\u001b[0minp2\u001b[0m\u001b[0;34m:\u001b[0m\u001b[0;34m[\u001b[0m\u001b[0;34m[\u001b[0m\u001b[0;36m1\u001b[0m\u001b[0;34m]\u001b[0m\u001b[0;34m,\u001b[0m\u001b[0;34m[\u001b[0m\u001b[0;36m3\u001b[0m\u001b[0;34m]\u001b[0m\u001b[0;34m]\u001b[0m\u001b[0;34m}\u001b[0m\u001b[0;34m)\u001b[0m\u001b[0;34m\u001b[0m\u001b[0m\n",
      "\u001b[0;31mAttributeError\u001b[0m: 'numpy.ndarray' object has no attribute 'get_shape'"
     ]
    }
   ],
   "source": [
    "c.get_shape()\n",
    "sess.run([output],feed_dict={inp1:[[1.,3.]],inp2:[[1],[3]]})"
   ]
  },
  {
   "cell_type": "markdown",
   "metadata": {},
   "source": [
    "### Listing 2-8. Define TensorFlow Constants\n"
   ]
  },
  {
   "cell_type": "code",
   "execution_count": 32,
   "metadata": {},
   "outputs": [
    {
     "data": {
      "text/plain": [
       "45"
      ]
     },
     "execution_count": 32,
     "metadata": {},
     "output_type": "execute_result"
    }
   ],
   "source": [
    "a = tf.constant(5)\n",
    "b = tf.constant(9)\n",
    "c = a*b\n",
    "c.eval()"
   ]
  },
  {
   "cell_type": "code",
   "execution_count": 33,
   "metadata": {},
   "outputs": [
    {
     "name": "stdout",
     "output_type": "stream",
     "text": [
      "45\n",
      "45\n"
     ]
    }
   ],
   "source": [
    "with tf.Session() as sess:\n",
    "    a = tf.constant(45)\n",
    "    print(c.eval())\n",
    "    print(sess.run(a))"
   ]
  },
  {
   "cell_type": "code",
   "execution_count": 24,
   "metadata": {},
   "outputs": [],
   "source": [
    "rw = tf.Variable(tf.random_normal((2,2)),name='lol')"
   ]
  },
  {
   "cell_type": "code",
   "execution_count": 25,
   "metadata": {},
   "outputs": [
    {
     "name": "stdout",
     "output_type": "stream",
     "text": [
      "[[-0.5528965   0.39970613]\n",
      " [-0.51575106  0.45685399]]\n"
     ]
    }
   ],
   "source": [
    "with tf.Session()as sess:\n",
    "    sess.run(tf.global_variables_initializer())\n",
    "    print(sess.run(rw))"
   ]
  },
  {
   "cell_type": "code",
   "execution_count": null,
   "metadata": {},
   "outputs": [],
   "source": []
  },
  {
   "cell_type": "code",
   "execution_count": 43,
   "metadata": {},
   "outputs": [
    {
     "name": "stdout",
     "output_type": "stream",
     "text": [
      "69\n",
      "69\n",
      "69\n",
      "69\n",
      "69\n"
     ]
    }
   ],
   "source": [
    "var_1 = tf.Variable(0,name='var_1')\n",
    "add_op =  tf.add(var_1,tf.constant(1))\n",
    "upd_op = tf.assign(var_1,add_op)\n",
    "with tf.Session() as sess:\n",
    "    sess.run(tf.global_variables_initializer())\n",
    "    lol = tf.constant(345678)\n",
    "    upd_op = tf.constant(69)\n",
    "    for i in range(5):\n",
    "        print(sess.run(upd_op))\n",
    "    sess.close()\n"
   ]
  },
  {
   "cell_type": "code",
   "execution_count": 38,
   "metadata": {},
   "outputs": [
    {
     "data": {
      "text/plain": [
       "345678"
      ]
     },
     "execution_count": 38,
     "metadata": {},
     "output_type": "execute_result"
    }
   ],
   "source": [
    "lol.eval()"
   ]
  },
  {
   "cell_type": "code",
   "execution_count": 41,
   "metadata": {},
   "outputs": [
    {
     "name": "stdout",
     "output_type": "stream",
     "text": [
      "345678\n",
      "345678\n",
      "345678\n",
      "345678\n",
      "345678\n"
     ]
    }
   ],
   "source": [
    "with tf.Session() as sess2:\n",
    "    sess2.run(tf.global_variables_initializer())\n",
    "    \n",
    "    for i in range(5):\n",
    "        print(sess2.run(lol))\n",
    "    sess2.close()"
   ]
  },
  {
   "cell_type": "code",
   "execution_count": 45,
   "metadata": {},
   "outputs": [
    {
     "name": "stdout",
     "output_type": "stream",
     "text": [
      "[5, 12, 5]\n"
     ]
    }
   ],
   "source": [
    "x = tf.constant(1)\n",
    "y = tf.constant(5)\n",
    "z = tf.constant(7)\n",
    "mul_x_y = x*y\n",
    "final_op = mul_x_y + z\n",
    "with tf.Session() as sess:\n",
    "    print(sess.run([mul_x_y,final_op,x*5]))"
   ]
  },
  {
   "cell_type": "code",
   "execution_count": 47,
   "metadata": {},
   "outputs": [],
   "source": [
    "inp1 = tf.placeholder(tf.float32)"
   ]
  },
  {
   "cell_type": "code",
   "execution_count": 66,
   "metadata": {},
   "outputs": [
    {
     "name": "stdout",
     "output_type": "stream",
     "text": [
      "scope1_10/lol:0\n"
     ]
    }
   ],
   "source": [
    "#import tensorflow\n",
    "import tensorflow as tf\n",
    "#open a variable scope named 'scope1'\n",
    "with tf.variable_scope(\"scope1\"):\n",
    "    #add a new variable to the graph\n",
    "    var=tf.get_variable(\"variable4\",[1])\n",
    "    var = tf.Variable(89,name=\"lol\")\n",
    "#print the name of variable\n",
    "print(var.name)"
   ]
  },
  {
   "cell_type": "code",
   "execution_count": 103,
   "metadata": {},
   "outputs": [],
   "source": [
    "#import tensorflow\n",
    "import tensorflow as tf\n",
    "#open a variable scope named 'scope1'\n",
    "with tf.variable_scope(\"scope1\",reuse=tf.AUTO_REUSE):\n",
    "    \n",
    "    #declare a variable named variable1\n",
    "    var1 = tf.get_variable(\"variable102\",[1])\n",
    "    \n",
    "    #set reuse flag to True\n",
    "#     tf.get_variable_scope().reuse_variables()\n",
    "    #just an assertion!\n",
    "#     assert tf.get_variable_scope().reuse==True\n",
    "    #declare another variable with same name\n",
    "    var2=tf.get_variable(\"variable102\",[1])\n",
    "    var5 = tf.get_variable(\"variable103\",[1])\n",
    "\n",
    "assert var1==var2"
   ]
  },
  {
   "cell_type": "code",
   "execution_count": 104,
   "metadata": {},
   "outputs": [],
   "source": [
    "with tf.variable_scope(\"scope1\",reuse=tf.AUTO_REUSE):\n",
    "    var1 = tf.get_variable(\"variable102\",[1])\n",
    "\n",
    "    var3 = tf.get_variable(\"variable102\",[1])\n",
    "    var4 = tf.get_variable(\"variable102\",[1])\n",
    "\n",
    "assert var4 == var3"
   ]
  },
  {
   "cell_type": "code",
   "execution_count": 110,
   "metadata": {},
   "outputs": [],
   "source": [
    "import tensorflow as tf\n",
    "#open a variable scope named 'scope1'\n",
    "with tf.variable_scope(\"scope1\",reuse=tf.AUTO_REUSE):\n",
    "    \n",
    "    #declare a variable named variable1\n",
    "    var1 = tf.get_variable(\"variable10902\",[1])\n",
    "    \n",
    "    #set reuse flag to True\n",
    "#     tf.get_variable_scope().reuse_variables()\n",
    "    #just an assertion!\n",
    "#     assert tf.get_variable_scope().reuse==True\n",
    "    #declare another variable with same name\n",
    "    var2=tf.get_variable(\"variable10902\",[1])\n",
    "    var5 = tf.get_variable(\"variable10003\",[1])\n",
    "\n",
    "# assert var1==var2"
   ]
  },
  {
   "cell_type": "markdown",
   "metadata": {},
   "source": [
    "## name_scope() has very little use, and i have yet to come across it"
   ]
  },
  {
   "cell_type": "code",
   "execution_count": null,
   "metadata": {},
   "outputs": [],
   "source": []
  }
 ],
 "metadata": {
  "kernelspec": {
   "display_name": "Python 3",
   "language": "python",
   "name": "python3"
  },
  "language_info": {
   "codemirror_mode": {
    "name": "ipython",
    "version": 3
   },
   "file_extension": ".py",
   "mimetype": "text/x-python",
   "name": "python",
   "nbconvert_exporter": "python",
   "pygments_lexer": "ipython3",
   "version": "3.6.3"
  }
 },
 "nbformat": 4,
 "nbformat_minor": 2
}
